{
 "cells": [
  {
   "cell_type": "code",
   "execution_count": 7,
   "id": "208947d7",
   "metadata": {},
   "outputs": [],
   "source": [
    "from langchain_community.document_loaders import PyPDFLoader #To load the pdf document\n",
    "from langchain_text_splitters import RecursiveCharacterTextSplitter #Perform chunking\n"
   ]
  },
  {
   "cell_type": "markdown",
   "id": "f4d0bb4f",
   "metadata": {},
   "source": [
    "## Step-1: Load the PDF Document"
   ]
  },
  {
   "cell_type": "code",
   "execution_count": null,
   "id": "5b851a89",
   "metadata": {},
   "outputs": [],
   "source": [
    "file_path = \"Intro_about_AI.pdf\" #Path to pdf file\n",
    "loader = PyPDFLoader(file_path) #Load the file\n",
    "docs= []\n",
    "for doc in loader.lazy_load():\n",
    "    docs.append(doc)"
   ]
  },
  {
   "cell_type": "code",
   "execution_count": null,
   "id": "d9a74296",
   "metadata": {},
   "outputs": [
    {
     "data": {
      "text/plain": [
       "13"
      ]
     },
     "execution_count": 11,
     "metadata": {},
     "output_type": "execute_result"
    }
   ],
   "source": [
    "len(docs) #Page wise document"
   ]
  },
  {
   "cell_type": "markdown",
   "id": "8a8c4e26",
   "metadata": {},
   "source": [
    "## Step-2: Perform Chunking using RecursiveCharacterTextSplitter"
   ]
  },
  {
   "cell_type": "code",
   "execution_count": 14,
   "id": "37bd0279",
   "metadata": {},
   "outputs": [],
   "source": [
    "text_splitter = RecursiveCharacterTextSplitter(\n",
    "    separators = [\"\\n\\n\",\"\\n\",\".\"],\n",
    "    chunk_size = 1000,\n",
    "    chunk_overlap = 120,\n",
    "    length_function = len\n",
    ")\n",
    "\n",
    "chunks = text_splitter.split_documents(docs)\n"
   ]
  },
  {
   "cell_type": "code",
   "execution_count": 15,
   "id": "877ca314",
   "metadata": {},
   "outputs": [
    {
     "data": {
      "text/plain": [
       "30"
      ]
     },
     "execution_count": 15,
     "metadata": {},
     "output_type": "execute_result"
    }
   ],
   "source": [
    "len(chunks)"
   ]
  },
  {
   "cell_type": "code",
   "execution_count": 16,
   "id": "70b9827f",
   "metadata": {},
   "outputs": [
    {
     "data": {
      "text/plain": [
       "'Chapter1:Introductions1.1Definitions:WhatIsArtificialIntelligence?● Artificialintelligencereferstocomputersystemsthatcanperformtaskscommonlyassociatedwithhumancognitivefunctions—suchasinterpretingspeech,playinggamesandidentifyingpatterns.● Typically, AIsystemslearnhowtodosobyprocessingmassiveamountsofdataandlookingforpatternstomodelintheirowndecision-making.● Inmanycases,humanswillsuperviseanAI’slearningprocess,reinforcinggooddecisionsanddiscouragingbadones.● ButsomeAIsystemsaredesignedtolearnwithoutsupervision;forinstance,byplayingagameoverandoveruntiltheyeventuallyfigureouttherulesandhowtowin.\\nStrongAIvs.WeakAIArtificialintelligenceisoftendistinguishedbetweenweakAIandstrongAI.WeakAI(ornarrowAI)referstoAIthatautomatesspecifictasks,typicallyoutperforminghumansbutoperatingwithinconstraints.StrongAI(orartificialgeneralintelligence)describesAIthatcanemulatehumanlearningandthinking,thoughitremainstheoreticalfornow.'"
      ]
     },
     "execution_count": 16,
     "metadata": {},
     "output_type": "execute_result"
    }
   ],
   "source": [
    "chunks[0].page_content"
   ]
  }
 ],
 "metadata": {
  "kernelspec": {
   "display_name": "rag_pdf",
   "language": "python",
   "name": "python3"
  },
  "language_info": {
   "codemirror_mode": {
    "name": "ipython",
    "version": 3
   },
   "file_extension": ".py",
   "mimetype": "text/x-python",
   "name": "python",
   "nbconvert_exporter": "python",
   "pygments_lexer": "ipython3",
   "version": "3.11.7"
  }
 },
 "nbformat": 4,
 "nbformat_minor": 5
}
