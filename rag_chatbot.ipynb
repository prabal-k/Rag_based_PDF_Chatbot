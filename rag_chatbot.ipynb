{
 "cells": [
  {
   "cell_type": "code",
   "execution_count": 16,
   "id": "208947d7",
   "metadata": {},
   "outputs": [],
   "source": [
    "from langchain_community.document_loaders import PyPDFLoader #To load the pdf document\n",
    "from langchain_text_splitters import RecursiveCharacterTextSplitter #Perform chunking\n",
    "from langchain_huggingface import HuggingFaceEndpoint ,ChatHuggingFace ,HuggingFaceEmbeddings#To initilazie the model\n",
    "from dotenv import load_dotenv #Load environmental variables\n",
    "load_dotenv()\n",
    "import os\n",
    "from langchain_community.vectorstores import FAISS #Faiss vectorstore\n",
    "from langchain_core.prompts import PromptTemplate\n",
    "\n",
    "\n"
   ]
  },
  {
   "cell_type": "markdown",
   "id": "f4d0bb4f",
   "metadata": {},
   "source": [
    "## Step-1: Load the PDF Document"
   ]
  },
  {
   "cell_type": "code",
   "execution_count": 2,
   "id": "5b851a89",
   "metadata": {},
   "outputs": [],
   "source": [
    "file_path = \"Intro_about_AI.pdf\" #Path to pdf file\n",
    "loader = PyPDFLoader(file_path) #Load the file\n",
    "docs= []\n",
    "for doc in loader.lazy_load():\n",
    "    docs.append(doc)"
   ]
  },
  {
   "cell_type": "code",
   "execution_count": 3,
   "id": "d9a74296",
   "metadata": {},
   "outputs": [
    {
     "data": {
      "text/plain": [
       "13"
      ]
     },
     "execution_count": 3,
     "metadata": {},
     "output_type": "execute_result"
    }
   ],
   "source": [
    "len(docs) #Page wise document"
   ]
  },
  {
   "cell_type": "markdown",
   "id": "8a8c4e26",
   "metadata": {},
   "source": [
    "## Step-2: Perform Chunking using RecursiveCharacterTextSplitter"
   ]
  },
  {
   "cell_type": "code",
   "execution_count": 4,
   "id": "37bd0279",
   "metadata": {},
   "outputs": [],
   "source": [
    "text_splitter = RecursiveCharacterTextSplitter(\n",
    "    separators = [\"\\n\\n\",\"\\n\",\".\"], #pripority based seperation \n",
    "    chunk_size = 1000,  \n",
    "    chunk_overlap = 120,\n",
    "    length_function = len\n",
    ")\n",
    "\n",
    "#Apply splitting/chunking\n",
    "chunks = text_splitter.split_documents(docs)\n"
   ]
  },
  {
   "cell_type": "code",
   "execution_count": null,
   "id": "877ca314",
   "metadata": {},
   "outputs": [
    {
     "data": {
      "text/plain": [
       "30"
      ]
     },
     "execution_count": 5,
     "metadata": {},
     "output_type": "execute_result"
    }
   ],
   "source": [
    "len(chunks) #Total number of chunks formed"
   ]
  },
  {
   "cell_type": "markdown",
   "id": "58430f21",
   "metadata": {},
   "source": [
    "## Step-3: Load the LLM and Embedding Model"
   ]
  },
  {
   "cell_type": "code",
   "execution_count": 6,
   "id": "873c45a9",
   "metadata": {},
   "outputs": [
    {
     "name": "stderr",
     "output_type": "stream",
     "text": [
      "c:\\Users\\Prabal Kuinkel\\Desktop\\RAG_Based_PDF_Chatbot\\rag_pdf\\Lib\\site-packages\\tqdm\\auto.py:21: TqdmWarning: IProgress not found. Please update jupyter and ipywidgets. See https://ipywidgets.readthedocs.io/en/stable/user_install.html\n",
      "  from .autonotebook import tqdm as notebook_tqdm\n"
     ]
    }
   ],
   "source": [
    "#Loading the embedding model from huggingface\n",
    "embedding_model = HuggingFaceEmbeddings(model_name =\"sentence-transformers/all-mpnet-base-v2\")"
   ]
  },
  {
   "cell_type": "code",
   "execution_count": null,
   "id": "7cb71fe2",
   "metadata": {},
   "outputs": [],
   "source": [
    "#loading the llm model from hugging face\n",
    "llm = HuggingFaceEndpoint(\n",
    "    repo_id = \"mistralai/Mistral-7B-Instruct-v0.3\", #Mistral model\n",
    "    temperature= 0.4,\n",
    "    max_new_tokens= 200,  #Maximun number of tokens to be generated in output\n",
    ")\n",
    "model = ChatHuggingFace(llm=llm)"
   ]
  },
  {
   "cell_type": "markdown",
   "id": "976d8aeb",
   "metadata": {},
   "source": [
    "### Step-4: Creating a VectorStore"
   ]
  },
  {
   "cell_type": "code",
   "execution_count": 11,
   "id": "2b983b30",
   "metadata": {},
   "outputs": [
    {
     "name": "stdout",
     "output_type": "stream",
     "text": [
      "Creating new vector store...\n",
      "Vector store saved to faiss_index\n"
     ]
    }
   ],
   "source": [
    "VECTOR_STORE_PATH = \"faiss_index\"  # Directory to save the vector store\n",
    "\n",
    "# Check if vector store exists\n",
    "if os.path.exists(VECTOR_STORE_PATH):\n",
    "    print(\"Loading existing vector store...\")\n",
    "    vector_store = FAISS.load_local(VECTOR_STORE_PATH, embedding_model, allow_dangerous_deserialization=True)\n",
    "else:\n",
    "    print(\"Creating new vector store...\")\n",
    "    # Assuming 'chunks' contains your documents\n",
    "    vector_store = FAISS.from_documents(\n",
    "        documents=chunks,\n",
    "        embedding=embedding_model\n",
    "    )\n",
    "    # Save the vector store locally\n",
    "    vector_store.save_local(VECTOR_STORE_PATH)\n",
    "    print(f\"Vector store saved to {VECTOR_STORE_PATH}\")"
   ]
  },
  {
   "cell_type": "markdown",
   "id": "c69bc29c",
   "metadata": {},
   "source": [
    "## Step-5: Creating a prompt template"
   ]
  },
  {
   "cell_type": "code",
   "execution_count": 18,
   "id": "95cc53d1",
   "metadata": {},
   "outputs": [],
   "source": [
    "prompt_template = PromptTemplate(\n",
    "    template = \"\"\"You are a Smart Chat Assistant who answers the user question , based on the context provided. Only answer based on the provided context .\n",
    "    If you dont know the answer simply respond with I do not have answer to your question.\n",
    "    'Context':\n",
    "    {context}\n",
    "    'Question':\n",
    "    {input}\"\"\",\n",
    "    input_variables=['context','input']\n",
    ")"
   ]
  },
  {
   "cell_type": "markdown",
   "id": "03e433da",
   "metadata": {},
   "source": [
    "## Step-6: Creating a retriever component "
   ]
  },
  {
   "cell_type": "code",
   "execution_count": null,
   "id": "4cbd4951",
   "metadata": {},
   "outputs": [],
   "source": [
    "retriever = vector_store.as_retriever(\n",
    "    search_type=\"mmr\",  #Maximum marginal relevance\n",
    "    search_kwargs={'k':6,'lambda_mult':0.4} # 'k' : number of similari documents to retrieve , 'lambda_mult': to retriever the diverse documents and reduce redundancy\n",
    "    )"
   ]
  },
  {
   "cell_type": "code",
   "execution_count": 26,
   "id": "a08815df",
   "metadata": {},
   "outputs": [
    {
     "data": {
      "text/plain": [
       "[Document(id='de2125d3-0d61-4f5e-b40a-d27ac026b9f7', metadata={'producer': 'Skia/PDF m123 Google Docs Renderer', 'creator': 'PyPDF', 'creationdate': '', 'title': 'chapter_1_Introductions', 'source': 'Intro_about_AI.pdf', 'total_pages': 13, 'page': 4, 'page_label': '5'}, page_content='● CustomerExpectations:MeetingcustomerexpectationsforAIperformanceandusabilitycanbechallengingduetohighexpectationsandevolvingneeds.● Cybersecurity:AIsystemsmaybevulnerabletocyberattacks,requiringrobustsecuritymeasurestoprotectagainstthreats.\\n1.3GoalsofAI\\n● AI canbeachievedbyreadingthebehavior of humans andusingtheresultstodevelopintelligent systems. For example, theylearn,makedecisionsandactincertain situations. Observing humans while problem-solving in simple tasksandusingitsresultstodevelopintelligentsystems.● The overall research goal of artificial intelligence is to createtechnologythatallows computers and machines to work intelligently. Thegeneral problemofsimulating(orcreating)intelligenceisbrokendownintosub-problems.● The symptoms described below receive the most attention. These includespecial traits or abilities thatresearchersexpectanintelligentsystemtoexhibit.EricSandwell emphasizes planningandlearningthatisrelevantandapplicabletothegivensituation.'),\n",
       " Document(id='e7985ab1-4616-445c-8dea-6548f13196cc', metadata={'producer': 'Skia/PDF m123 Google Docs Renderer', 'creator': 'PyPDF', 'creationdate': '', 'title': 'chapter_1_Introductions', 'source': 'Intro_about_AI.pdf', 'total_pages': 13, 'page': 11, 'page_label': '12'}, page_content='● GenerativeAIdescribesartificialintelligencealgorithmsthatcancreatenewcontent—suchastext,images,videooraudio—basedonagivenuserprompt.Towork,agenerativeAImodelisfedmassivedatasetsandtrainedtoidentifypatternswithinthem,thensubsequentlygeneratesoutputsthatresemblethistrainingdata.GenerativeAIusesmachinelearning,neuralnetworks,anddeeplearning-basedlargelanguagemodelstoproduceitscontent.\\nGenerativeAIhasgainedmassivepopularityinthepastfewyears,especiallywithchatbotslikeChatGPT,GeminiandClaude—aswellasimagegeneratorssuchasDALL-E2andMidjourney—arrivingonthescene.Thesekindsoftoolsareoftenusedtocreatewrittencopy,code,digitalart,objectdesignsandmore.Theyareleveragedinindustrieslikeentertainment,marketing,consumergoodsandmanufacturing.'),\n",
       " Document(id='61673078-0d5c-4ce7-93bc-edb338bde5d0', metadata={'producer': 'Skia/PDF m123 Google Docs Renderer', 'creator': 'PyPDF', 'creationdate': '', 'title': 'chapter_1_Introductions', 'source': 'Intro_about_AI.pdf', 'total_pages': 13, 'page': 0, 'page_label': '1'}, page_content='Chapter1:Introductions1.1Definitions:WhatIsArtificialIntelligence?● Artificialintelligencereferstocomputersystemsthatcanperformtaskscommonlyassociatedwithhumancognitivefunctions—suchasinterpretingspeech,playinggamesandidentifyingpatterns.● Typically, AIsystemslearnhowtodosobyprocessingmassiveamountsofdataandlookingforpatternstomodelintheirowndecision-making.● Inmanycases,humanswillsuperviseanAI’slearningprocess,reinforcinggooddecisionsanddiscouragingbadones.● ButsomeAIsystemsaredesignedtolearnwithoutsupervision;forinstance,byplayingagameoverandoveruntiltheyeventuallyfigureouttherulesandhowtowin.\\nStrongAIvs.WeakAIArtificialintelligenceisoftendistinguishedbetweenweakAIandstrongAI.WeakAI(ornarrowAI)referstoAIthatautomatesspecifictasks,typicallyoutperforminghumansbutoperatingwithinconstraints.StrongAI(orartificialgeneralintelligence)describesAIthatcanemulatehumanlearningandthinking,thoughitremainstheoreticalfornow.'),\n",
       " Document(id='c6ab890f-e5ab-4c04-a35f-1f10867a3cc7', metadata={'producer': 'Skia/PDF m123 Google Docs Renderer', 'creator': 'PyPDF', 'creationdate': '', 'title': 'chapter_1_Introductions', 'source': 'Intro_about_AI.pdf', 'total_pages': 13, 'page': 8, 'page_label': '9'}, page_content='1.6ARTIFICIALINTELLIGENCEAPPLICATIONSANDEXAMPLES\\nArtificialIntelligenceApplicationsArtificialintelligencehasapplicationsacrossmultipleindustries,ultimatelyhelpingtostreamlineprocessesandboostbusinessefficiency.'),\n",
       " Document(id='f4a19f06-393e-4257-b49c-e74a552f2d15', metadata={'producer': 'Skia/PDF m123 Google Docs Renderer', 'creator': 'PyPDF', 'creationdate': '', 'title': 'chapter_1_Introductions', 'source': 'Intro_about_AI.pdf', 'total_pages': 13, 'page': 1, 'page_label': '2'}, page_content='BenefitsofAIAIisbeneficialforautomatingrepetitivetasks,solvingcomplexproblems,reducinghumanerrorandmuchmore.AutomatingRepetitiveTasks● Repetitivetaskssuchasdataentryandfactorywork,aswellascustomerserviceconversations,canallbeautomatedusingAItechnology.Thisletshumansfocusonotherpriorities.SolvingComplexProblems● AI’sabilitytoprocesslargeamountsofdataatonceallowsittoquicklyfindpatternsandsolvecomplexproblemsthatmaybetoodifficultforhumans,suchaspredictingfinancialoutlooksoroptimizingenergysolutions.'),\n",
       " Document(id='04b8b2ef-977d-46a5-8b20-e54bd4606b55', metadata={'producer': 'Skia/PDF m123 Google Docs Renderer', 'creator': 'PyPDF', 'creationdate': '', 'title': 'chapter_1_Introductions', 'source': 'Intro_about_AI.pdf', 'total_pages': 13, 'page': 7, 'page_label': '8'}, page_content='● These machines belong to the Category II category of AI applications, andSelf-propelledcarsaretheperfectexample.● Over time, these machines are fed with data and trained on the speed anddirection of other cars, lanemarkings, trafficlights, curves of roads, andotherimportantfactors.\\n3.Theoryofmind\\n● It is wherewearestrugglingtomakethis concept work. However, wearenotthere yet. Theory of mindis theconcept wherebots will understandandreacttohumanemotions,thoughts.● If AI-poweredmachines arealways minglingandmovingaroundwithus,thenunderstandinghumanbehavior is imperative. Andthen, it is necessarytoreacttosuchbehaviorsaccordingly.\\n4.Self-awareness')]"
      ]
     },
     "execution_count": 26,
     "metadata": {},
     "output_type": "execute_result"
    }
   ],
   "source": [
    "retriever.invoke(\"What is AI?\")"
   ]
  },
  {
   "cell_type": "markdown",
   "id": "5d512ad0",
   "metadata": {},
   "source": [
    "## Step-7: Creating a RAG_Chain / Pipeline"
   ]
  },
  {
   "cell_type": "code",
   "execution_count": 29,
   "id": "115c35ef",
   "metadata": {},
   "outputs": [],
   "source": [
    "from langchain_core.runnables import RunnableParallel ,RunnableSequence, RunnablePassthrough\n",
    "\n",
    "parallel_chain = RunnableParallel({\n",
    "    'context' : retriever,\n",
    "    'input' :RunnablePassthrough()\n",
    "})"
   ]
  },
  {
   "cell_type": "code",
   "execution_count": 30,
   "id": "04eae586",
   "metadata": {},
   "outputs": [],
   "source": [
    "rag_chain = parallel_chain | prompt_template | model"
   ]
  },
  {
   "cell_type": "code",
   "execution_count": 36,
   "id": "c1f45f2b",
   "metadata": {},
   "outputs": [],
   "source": [
    "result = rag_chain.invoke(\"What are the AI techniques discussed.\")"
   ]
  },
  {
   "cell_type": "code",
   "execution_count": 37,
   "id": "04f7bb4e",
   "metadata": {},
   "outputs": [
    {
     "name": "stdout",
     "output_type": "stream",
     "text": [
      " The AI techniques discussed in the provided context are:\n",
      "\n",
      "1. Planning: This technique involves intelligent agents being able to set goals and achieve them. It requires the ability to envision the future, make predictions about how actions will change the state of the world, and make choices that maximize the utility (or \"value\") of the options available.\n",
      "\n",
      "2. Learning: This is a fundamental concept of AI research since its inception. It is the study of algorithms that automatically improve through experience. Unsupervised learning is the ability to find patterns in a stream of input. Supervised learning includes both classification and numerical regression.\n",
      "\n",
      "3. Reactive machines: These are the most basic form of AI applications. Examples of reactive machines are DeepBlue, IBM's chess-playing supercomputer, and the same computer that defeated the then-grandmaster of the world. AI teams do not use training sets to feed these machines or store subsequent data for future references. Based on the move made by the opponent, the machine decides/predicts the next move.\n",
      "\n",
      "The context does not provide information about any other AI techniques.\n"
     ]
    }
   ],
   "source": [
    "print(result.content)"
   ]
  },
  {
   "cell_type": "code",
   "execution_count": 38,
   "id": "39591477",
   "metadata": {},
   "outputs": [
    {
     "data": {
      "text/plain": [
       "[Document(id='1c60aa87-0813-4585-9070-3f926a7c4831', metadata={'producer': 'Skia/PDF m123 Google Docs Renderer', 'creator': 'PyPDF', 'creationdate': '', 'title': 'chapter_1_Introductions', 'source': 'Intro_about_AI.pdf', 'total_pages': 13, 'page': 5, 'page_label': '6'}, page_content='● Planning:Intelligentagentsmustbeabletosetgoalsandachievethem.Theyneedawaytoenvisionthefuture-arepresentationofthestateoftheworldandmakepredictionsabouthowtheiractionswillchangeit-andbeabletomakechoicesthatmaximizetheutility(or\"value\")oftheoptionsavailable.Inclassicalplanningproblems,theagentcanassumethatitistheonlysystemactingintheworld,allowingtheagenttobecertainoftheconsequencesofitsactions.However,iftheagentisnottheonlyactor,itrequiresthattheagentreasonunderuncertainty.Itcallsforanagenttoassessitsenvironment,makepredictions,evaluateitspredictions,andadaptbasedonitsassessment.\\n● Learning:Machinelearning,afundamentalconceptofAIresearchsincethefield\\'sinception,isthestudyofcomputeralgorithmsthatautomaticallyimprovethroughexperience.Unsupervisedlearningistheabilitytofindpatternsinastreamofinput.Supervisedlearningincludesbothclassificationandnumericalregression.Afterseeingseveralexamplesofthingsfromseveral'),\n",
       " Document(id='0818a547-88cf-4aba-a6e3-d3a1ce70a673', metadata={'producer': 'Skia/PDF m123 Google Docs Renderer', 'creator': 'PyPDF', 'creationdate': '', 'title': 'chapter_1_Introductions', 'source': 'Intro_about_AI.pdf', 'total_pages': 13, 'page': 9, 'page_label': '10'}, page_content=\"Finance● ThefinanceindustryutilizesAItodetectfraudinbankingactivities,assessfinancialcreditstandings,predictfinancialriskforbusinessesplusmanagestockandbondtradingbasedonmarketpatterns.AIisalsoimplementedacrossfintechandbankingapps,workingtopersonalizebankingandprovide24/7customerservicesupport.\\nGaming● VideogamedevelopersapplyAItomakegamingexperiencesmoreimmersive.Non-playablecharacters(NPCs)invideogamesuseAItorespondaccordinglytoplayerinteractionsandthesurroundingenvironment,creatinggamescenariosthatcanbemorerealistic,enjoyableanduniquetoeachplayer.\\nMilitary● AIassistsmilitariesonandoffthebattlefield,whetherit'stohelpprocessmilitaryintelligencedatafaster,detectcyberwarfareattacksorautomatemilitaryweaponry,defensesystemsandvehicles.Dronesandrobotsin\"),\n",
       " Document(id='f9b1cf69-2065-4fb2-bc81-ad582b9746ee', metadata={'producer': 'Skia/PDF m123 Google Docs Renderer', 'creator': 'PyPDF', 'creationdate': '', 'title': 'chapter_1_Introductions', 'source': 'Intro_about_AI.pdf', 'total_pages': 13, 'page': 3, 'page_label': '4'}, page_content='● Bias:AIsystemscaninheritbiasesfromthedatatheyaretrainedon,leadingtounfairordiscriminatoryoutcomes.● DataQuality:AIperformanceheavilyreliesonthequalityofdatausedfortraining,whichcanbenoisy,incomplete,orbiased.● AIIntegration:IntegratingAIsystemsintoexistingworkflowsandtechnologiescanbecomplexandrequiresignificanteffort.● DataSecurity:AIsystemsrequireaccesstosensitivedata,raisingconcernsaboutdatabreachesandprivacyviolations.● DependenceonAI:Over-relianceonAIsystemscanleadtolossofcriticalskillsanddecision-makingcapabilitiesamonghumans.● Infrastructure:BuildingandmaintainingthenecessaryinfrastructuretosupportAIinitiativescanbecostlyandresource-intensive.● Privacy:AIapplicationsofteninvolveprocessingpersonaldata,raisingconcernsaboutprivacyinfringementanddatamisuse.● LegalIssues:LackofclearregulationsandlegalframeworksaroundAIcancreateuncertaintyandpotentiallegalliabilities.● DataScarcity:Accesstolarge,high-qualitydatasetsiscrucialfortrainingAImodels,butsuchdatamaybescarceorproprietary'),\n",
       " Document(id='04b8b2ef-977d-46a5-8b20-e54bd4606b55', metadata={'producer': 'Skia/PDF m123 Google Docs Renderer', 'creator': 'PyPDF', 'creationdate': '', 'title': 'chapter_1_Introductions', 'source': 'Intro_about_AI.pdf', 'total_pages': 13, 'page': 7, 'page_label': '8'}, page_content='● These machines belong to the Category II category of AI applications, andSelf-propelledcarsaretheperfectexample.● Over time, these machines are fed with data and trained on the speed anddirection of other cars, lanemarkings, trafficlights, curves of roads, andotherimportantfactors.\\n3.Theoryofmind\\n● It is wherewearestrugglingtomakethis concept work. However, wearenotthere yet. Theory of mindis theconcept wherebots will understandandreacttohumanemotions,thoughts.● If AI-poweredmachines arealways minglingandmovingaroundwithus,thenunderstandinghumanbehavior is imperative. Andthen, it is necessarytoreacttosuchbehaviorsaccordingly.\\n4.Self-awareness'),\n",
       " Document(id='c6ab890f-e5ab-4c04-a35f-1f10867a3cc7', metadata={'producer': 'Skia/PDF m123 Google Docs Renderer', 'creator': 'PyPDF', 'creationdate': '', 'title': 'chapter_1_Introductions', 'source': 'Intro_about_AI.pdf', 'total_pages': 13, 'page': 8, 'page_label': '9'}, page_content='1.6ARTIFICIALINTELLIGENCEAPPLICATIONSANDEXAMPLES\\nArtificialIntelligenceApplicationsArtificialintelligencehasapplicationsacrossmultipleindustries,ultimatelyhelpingtostreamlineprocessesandboostbusinessefficiency.'),\n",
       " Document(id='e2bc251a-72cf-4c24-8718-bb03b579e61b', metadata={'producer': 'Skia/PDF m123 Google Docs Renderer', 'creator': 'PyPDF', 'creationdate': '', 'title': 'chapter_1_Introductions', 'source': 'Intro_about_AI.pdf', 'total_pages': 13, 'page': 6, 'page_label': '7'}, page_content=\"● GeneralIntelligence:Manyresearchersthinkthattheirworkwilleventuallyresultinamachinewithartificialgeneralintelligence,combiningalltheskillsdescribedaboveandexceedinghumancapacityinmostoralloftheseareas.Somebelievethatsuchaprojectmayrequireanthropomorphicfeaturessuchasartificialconsciousnessoranartificialbrain.\\n1.4AIApproaches\\n1.Reactivemachines\\n● These machines are the most basic form of AI applications. Examples ofreactivemachines areDeepBlue, IBM's chess-playingsupercomputer, andthesamecomputerthatdefeatedthethen-grandmasteroftheworld.● AI teams donot usetrainingsets tofeedthemachinesorstoresubsequentdatafor future references. Based on the move made bytheopponent, themachinedecides/predictsthenextmove.\\n2.Limitedmemory\")]"
      ]
     },
     "execution_count": 38,
     "metadata": {},
     "output_type": "execute_result"
    }
   ],
   "source": [
    "retriever.invoke(\"What are the AI techniques discussed.\")"
   ]
  }
 ],
 "metadata": {
  "kernelspec": {
   "display_name": "rag_pdf",
   "language": "python",
   "name": "python3"
  },
  "language_info": {
   "codemirror_mode": {
    "name": "ipython",
    "version": 3
   },
   "file_extension": ".py",
   "mimetype": "text/x-python",
   "name": "python",
   "nbconvert_exporter": "python",
   "pygments_lexer": "ipython3",
   "version": "3.11.7"
  }
 },
 "nbformat": 4,
 "nbformat_minor": 5
}
